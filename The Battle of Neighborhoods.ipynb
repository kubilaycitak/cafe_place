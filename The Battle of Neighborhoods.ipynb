{
 "cells": [
  {
   "cell_type": "markdown",
   "metadata": {},
   "source": [
    "# The Battle of the Neighborhoods\n",
    "## The Most Suitable Place to Open Up a Cafe in Istanbul"
   ]
  },
  {
   "attachments": {},
   "cell_type": "markdown",
   "metadata": {},
   "source": [
    "### Introduction"
   ]
  },
  {
   "cell_type": "markdown",
   "metadata": {},
   "source": [
    "Opening up a cafe in Istanbul might be difficult, but deciding to do so is even more difficult. You must have great strategies and come up with great ideas to successfully open up your cafe.\n",
    "\n",
    "While doing so you can count endless challenges, and this project aimes to solve some of these challenges you may encounter."
   ]
  },
  {
   "cell_type": "markdown",
   "metadata": {},
   "source": [
    "### Business Problem"
   ]
  },
  {
   "cell_type": "markdown",
   "metadata": {},
   "source": [
    "There are so many cafes in Istanbul, therefore if you open up your cafe in a place full of cafes, you might not be successful.\n",
    "\n",
    "Likewise, if you open up your cafe in a place that has no attraction, you still might fail.\n",
    "\n",
    "The aim of this project is to show you the best places to open up your cafe.\n"
   ]
  },
  {
   "cell_type": "markdown",
   "metadata": {},
   "source": [
    "### Target Audiance"
   ]
  },
  {
   "cell_type": "markdown",
   "metadata": {},
   "source": [
    "The project aims to reach people who are considering about opening up a cafe in Istanbul and want to find the best place to do so."
   ]
  },
  {
   "cell_type": "markdown",
   "metadata": {},
   "source": [
    "### Desired Outcome"
   ]
  },
  {
   "cell_type": "markdown",
   "metadata": {},
   "source": [
    "The best outcome of this project would be to see;\n",
    "- The most popular venues in every borough, which are cafes mostly\n",
    "- The places full of cafes, in order to avoid those places\n",
    "- The places that have enough attraction, not completely empty\n",
    "- The best place to open up your cafe\n"
   ]
  },
  {
   "cell_type": "markdown",
   "metadata": {},
   "source": [
    "### About Data"
   ]
  },
  {
   "cell_type": "markdown",
   "metadata": {},
   "source": [
    "- Boroughs and their information from atlasbig.com,\n",
    "- Geographic coordination information of the boroughs from geopy client,\n",
    "- Most popular venue categories from Foursquare API\n",
    "will be used in the project.\n",
    "\n",
    "These sources also provide information like neighborhoods of boroughs, area of boroughs, other venue categories etc. These information could be used as well.\n"
   ]
  },
  {
   "cell_type": "code",
   "execution_count": null,
   "metadata": {},
   "outputs": [],
   "source": []
  }
 ],
 "metadata": {
  "kernelspec": {
   "display_name": "Python 3",
   "language": "python",
   "name": "python3"
  },
  "language_info": {
   "codemirror_mode": {
    "name": "ipython",
    "version": 3
   },
   "file_extension": ".py",
   "mimetype": "text/x-python",
   "name": "python",
   "nbconvert_exporter": "python",
   "pygments_lexer": "ipython3",
   "version": "3.6.9"
  }
 },
 "nbformat": 4,
 "nbformat_minor": 2
}
